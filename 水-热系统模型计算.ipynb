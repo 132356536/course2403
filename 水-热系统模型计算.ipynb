{
 "cells": [
  {
   "cell_type": "markdown",
   "metadata": {},
   "source": [
    "## 水力模型计算"
   ]
  },
  {
   "cell_type": "code",
   "execution_count": 2,
   "metadata": {},
   "outputs": [
    {
     "name": "stdout",
     "output_type": "stream",
     "text": [
      "每根管道内的质量流量:\n",
      "[[2.71151397]\n",
      " [0.71151397]\n",
      " [2.28848603]]\n"
     ]
    }
   ],
   "source": [
    "import numpy as np\n",
    "from scipy.optimize import newton\n",
    "from scipy.linalg import solve\n",
    "from math import pi, log10\n",
    "\n",
    "# 常数设定\n",
    "N, Np, Nd = 3, 3, 2\n",
    "D = np.ones((3, 1))*150e-3  # 管道直径\n",
    "ep = np.ones((3, 1))*1.25e-3  # 管道粗糙度\n",
    "s = pi*D*D/4  # 管道横截面面积\n",
    "len = np.array([[400], [400], [600]])  # 管道长度\n",
    "mq = np.array([[2], [3]])  # 节点质量流量 kg/s\n",
    "rho = 958.4  # 100°C 水的密度 (kg/m^3) \n",
    "g = 9.81  # 重力加速度\n",
    "viscosity = 0.294e-6  # 温度为100℃，单位: m^2/s 动力粘度\n",
    "A = np.array([[1, -1, 0], [0, 1, 1], [-1, 0, -1]])  # 网络节点-弧关联矩阵\n",
    "B = np.array([[1, 1, -1]])\n",
    "dm = np.array([[1], [1], [1]])  # 初始化dm\n",
    "err = 1\n",
    "pre = 0\n",
    "\n",
    "# Colebrook公式\n",
    "def colebrook(R, K):\n",
    "    F_init = 0.02\n",
    "    return newton(lambda F: 1/np.sqrt(F) + 2*log10(K/3.7 + 2.51/(R*np.sqrt(F))), F_init)\n",
    "\n",
    "while err > 1e-3:\n",
    "    # 计算管道流量dm     \n",
    "    m_node = A.dot(dm)  # 节点流入量\n",
    "    dPhi = m_node[:N-1] - mq  # 节点流量误差\n",
    "    HJ0 = A[:N-1,:]   \n",
    "    # 对于环路类型热力网\n",
    "    vel = dm.flatten()/s.flatten()/rho  # 单位m kg/s, V m/s\n",
    "    Re = abs(vel)*D.flatten()/viscosity\n",
    "    factor = np.array([colebrook(Re[i], ep[i]/D[i]) if Re[i] >= 2300 else 64/Re[i] for i in range(Np)])\n",
    "    Kf = factor*len.flatten()/D.flatten()/s.flatten()/s.flatten()/2/g/rho/rho\n",
    "    dpre = B.dot(Kf*abs(dm.flatten())*dm.flatten())  # loop方程的压力\n",
    "    HJpre = 2*B*(Kf*abs(dm.flatten()))  # loop压力方程的雅可比矩阵\n",
    "    dH = np.vstack((dPhi, dpre))\n",
    "    HJ = np.block([[HJ0], [HJpre]])  \n",
    "    dx = solve(HJ, -dH)  # 解HJ*dx = -dH\n",
    "    err = max(abs(dH))\n",
    "    dm = dm + dx\n",
    "    pre = pre + 1\n",
    "   \n",
    "print(f\"每根管道内的质量流量:\\n{dm}\")\n"
   ]
  },
  {
   "cell_type": "markdown",
   "metadata": {},
   "source": [
    "## 根据水力模型求解稳态热力温度(供水温度)"
   ]
  },
  {
   "cell_type": "code",
   "execution_count": 53,
   "metadata": {},
   "outputs": [
    {
     "name": "stdout",
     "output_type": "stream",
     "text": [
      "节点1的供水温度为: 99.37℃\n",
      "节点2的供水温度为: 98.43℃\n"
     ]
    }
   ],
   "source": [
    "# 热力模型参数设定\n",
    "Ts3 = 100  # 热源供水温度\n",
    "Ta = 10    # 环境温度\n",
    "Ts3d = Ts3 - Ta  # 热源供水与环境温差\n",
    "lam = 0.2  # 传热系数 W / (m * K)\n",
    "cp = 4182  # 水的比容 J / (kg * K)\n",
    "To = np.array([50, 50])  # 负荷热量温度\n",
    "Tod = To - Ta\n",
    "# 计算每个节点的实际通过流量\n",
    "mq = A.dot(dm).flatten()\n",
    "\n",
    "# 根据水力模型所算出的管道流量求出每段管路的温降系数 psi\n",
    "psi = np.exp(-1 * lam * len.flatten() / (cp * dm.flatten()))\n",
    "\n",
    "# 联立供水温度节点方程组\n",
    "# 系数矩阵\n",
    "Cs = np.array([\n",
    "    [1, 0],\n",
    "    [-1 * dm[1, 0] * psi[1], mq[1]]\n",
    "])\n",
    "\n",
    "# 列向量\n",
    "bs = Ts3d * np.array([psi[0], dm[2, 0] * psi[2]])\n",
    "\n",
    "# 求出对应的供水温度\n",
    "Tsx = solve(Cs, bs) + Ta\n",
    "\n",
    "# 打印结果\n",
    "print(f'节点1的供水温度为: {Tsx[0]:.2f}℃')\n",
    "print(f'节点2的供水温度为: {Tsx[1]:.2f}℃')\n",
    "\n"
   ]
  },
  {
   "cell_type": "markdown",
   "metadata": {},
   "source": [
    "### 继续计算回水温度"
   ]
  },
  {
   "cell_type": "code",
   "execution_count": 67,
   "metadata": {},
   "outputs": [
    {
     "name": "stdout",
     "output_type": "stream",
     "text": [
      "节点3的回水温度为: 49.47℃\n"
     ]
    }
   ],
   "source": [
    "# 建立联立回水温度节点方程组\n",
    "Cr = np.array([\n",
    "    [dm[0,0], -1 * dm[1,0] * psi[1]], \n",
    "    [0, 1]\n",
    "])\n",
    "\n",
    "br = Tod * np.array([mq[0],1])\n",
    "\n",
    "# 求出对应的回水温度\n",
    "Trxd = solve(Cr, br)\n",
    "\n",
    "# 计算热源节点3的回水温度\n",
    "Tr3 = np.array([\n",
    "    [dm[0,0] * psi[0], dm[2,0] * psi[2]] \n",
    "]).dot(Trxd) / (- mq[2]) + Ta\n",
    "\n",
    "print(f'节点3的回水温度为: {Tr3[0]:.2f}℃')"
   ]
  }
 ],
 "metadata": {
  "kernelspec": {
   "display_name": "pytorch_1",
   "language": "python",
   "name": "python3"
  },
  "language_info": {
   "codemirror_mode": {
    "name": "ipython",
    "version": 3
   },
   "file_extension": ".py",
   "mimetype": "text/x-python",
   "name": "python",
   "nbconvert_exporter": "python",
   "pygments_lexer": "ipython3",
   "version": "3.9.7"
  }
 },
 "nbformat": 4,
 "nbformat_minor": 2
}
